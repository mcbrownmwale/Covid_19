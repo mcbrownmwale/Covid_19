{
 "cells": [
  {
   "cell_type": "markdown",
   "id": "aa2fb90e-60a7-47af-801c-35e377e442c2",
   "metadata": {},
   "source": [
    "# Investigating Covid-19 Virus Trends (January 2020 - July 2020)\n",
    "\n",
    "## Project Overview\n",
    "For this project will investigate the trends of a Coronavirus in different countries covering a period from January 2020 to July 2020. Coronavirus has been in existence for over 5 years and there is a lot of data on how the virus has evolved as well as on how countries have been affected. However, in our project we will only be interested in understanding the trends for the first 6 months of the virus's  existence in the world. We will use a dataset that was downloaded from kaggle.com.\n",
    "## Project Questions\n",
    "Our analysis will be designed to find answers to the following questions:\n",
    "1. Which countries have had the highest number of deaths due to COVID-19?\n",
    "2. Which countries have had the highest number of positive cases against the number of tests?\n",
    "3. Which countries have made the best effort in terms of the number of COVID-19 tests conducted related to their population?\n",
    "4. Which countries were ultimately the most and the least affected related to their population?\n",
    "## Import Libraries and Read in Data\n",
    "We will first import the necessary Python Libraries that will be used for this project then we load the data."
   ]
  },
  {
   "cell_type": "code",
   "execution_count": 1,
   "id": "dbc4856d-edff-400d-bb97-9d3aa782ed7e",
   "metadata": {},
   "outputs": [
    {
     "data": {
      "text/html": [
       "<div>\n",
       "<style scoped>\n",
       "    .dataframe tbody tr th:only-of-type {\n",
       "        vertical-align: middle;\n",
       "    }\n",
       "\n",
       "    .dataframe tbody tr th {\n",
       "        vertical-align: top;\n",
       "    }\n",
       "\n",
       "    .dataframe thead th {\n",
       "        text-align: right;\n",
       "    }\n",
       "</style>\n",
       "<table border=\"1\" class=\"dataframe\">\n",
       "  <thead>\n",
       "    <tr style=\"text-align: right;\">\n",
       "      <th></th>\n",
       "      <th>Date</th>\n",
       "      <th>Continent_Name</th>\n",
       "      <th>Two_Letter_Country_Code</th>\n",
       "      <th>Country_Region</th>\n",
       "      <th>Province_State</th>\n",
       "      <th>positive</th>\n",
       "      <th>hospitalized</th>\n",
       "      <th>recovered</th>\n",
       "      <th>death</th>\n",
       "      <th>total_tested</th>\n",
       "      <th>active</th>\n",
       "      <th>hospitalizedCurr</th>\n",
       "      <th>daily_tested</th>\n",
       "      <th>daily_positive</th>\n",
       "    </tr>\n",
       "  </thead>\n",
       "  <tbody>\n",
       "    <tr>\n",
       "      <th>0</th>\n",
       "      <td>2020-01-20</td>\n",
       "      <td>Asia</td>\n",
       "      <td>KR</td>\n",
       "      <td>South Korea</td>\n",
       "      <td>All States</td>\n",
       "      <td>1</td>\n",
       "      <td>0</td>\n",
       "      <td>0</td>\n",
       "      <td>0</td>\n",
       "      <td>4</td>\n",
       "      <td>0</td>\n",
       "      <td>0</td>\n",
       "      <td>0</td>\n",
       "      <td>0</td>\n",
       "    </tr>\n",
       "    <tr>\n",
       "      <th>1</th>\n",
       "      <td>2020-01-22</td>\n",
       "      <td>North America</td>\n",
       "      <td>US</td>\n",
       "      <td>United States</td>\n",
       "      <td>All States</td>\n",
       "      <td>1</td>\n",
       "      <td>0</td>\n",
       "      <td>0</td>\n",
       "      <td>0</td>\n",
       "      <td>1</td>\n",
       "      <td>0</td>\n",
       "      <td>0</td>\n",
       "      <td>0</td>\n",
       "      <td>0</td>\n",
       "    </tr>\n",
       "    <tr>\n",
       "      <th>2</th>\n",
       "      <td>2020-01-22</td>\n",
       "      <td>North America</td>\n",
       "      <td>US</td>\n",
       "      <td>United States</td>\n",
       "      <td>Washington</td>\n",
       "      <td>1</td>\n",
       "      <td>0</td>\n",
       "      <td>0</td>\n",
       "      <td>0</td>\n",
       "      <td>1</td>\n",
       "      <td>0</td>\n",
       "      <td>0</td>\n",
       "      <td>0</td>\n",
       "      <td>0</td>\n",
       "    </tr>\n",
       "    <tr>\n",
       "      <th>3</th>\n",
       "      <td>2020-01-23</td>\n",
       "      <td>North America</td>\n",
       "      <td>US</td>\n",
       "      <td>United States</td>\n",
       "      <td>All States</td>\n",
       "      <td>1</td>\n",
       "      <td>0</td>\n",
       "      <td>0</td>\n",
       "      <td>0</td>\n",
       "      <td>1</td>\n",
       "      <td>0</td>\n",
       "      <td>0</td>\n",
       "      <td>0</td>\n",
       "      <td>0</td>\n",
       "    </tr>\n",
       "    <tr>\n",
       "      <th>4</th>\n",
       "      <td>2020-01-23</td>\n",
       "      <td>North America</td>\n",
       "      <td>US</td>\n",
       "      <td>United States</td>\n",
       "      <td>Washington</td>\n",
       "      <td>1</td>\n",
       "      <td>0</td>\n",
       "      <td>0</td>\n",
       "      <td>0</td>\n",
       "      <td>1</td>\n",
       "      <td>0</td>\n",
       "      <td>0</td>\n",
       "      <td>0</td>\n",
       "      <td>0</td>\n",
       "    </tr>\n",
       "  </tbody>\n",
       "</table>\n",
       "</div>"
      ],
      "text/plain": [
       "         Date Continent_Name Two_Letter_Country_Code Country_Region  \\\n",
       "0  2020-01-20           Asia                      KR    South Korea   \n",
       "1  2020-01-22  North America                      US  United States   \n",
       "2  2020-01-22  North America                      US  United States   \n",
       "3  2020-01-23  North America                      US  United States   \n",
       "4  2020-01-23  North America                      US  United States   \n",
       "\n",
       "  Province_State  positive  hospitalized  recovered  death  total_tested  \\\n",
       "0     All States         1             0          0      0             4   \n",
       "1     All States         1             0          0      0             1   \n",
       "2     Washington         1             0          0      0             1   \n",
       "3     All States         1             0          0      0             1   \n",
       "4     Washington         1             0          0      0             1   \n",
       "\n",
       "   active  hospitalizedCurr  daily_tested  daily_positive  \n",
       "0       0                 0             0               0  \n",
       "1       0                 0             0               0  \n",
       "2       0                 0             0               0  \n",
       "3       0                 0             0               0  \n",
       "4       0                 0             0               0  "
      ]
     },
     "execution_count": 1,
     "metadata": {},
     "output_type": "execute_result"
    }
   ],
   "source": [
    "# Import Pandas and Numpy for data manipulation and wrangling\n",
    "import pandas as pd\n",
    "import numpy as np\n",
    "\n",
    "# Import matplotlib and seaborn for data visualisation\n",
    "import matplotlib.pyplot as plt\n",
    "import seaborn as sns\n",
    "sns.set_theme()\n",
    "\n",
    "# Read in Data\n",
    "covid = pd.read_csv('covid_19.csv')\n",
    "\n",
    "# Display the first five records of the data\n",
    "covid.head()"
   ]
  },
  {
   "cell_type": "markdown",
   "id": "c87810e0-e55e-4ce8-8b27-d642de85eae4",
   "metadata": {},
   "source": [
    "## Data Understanding\n",
    "Now that we have successfully loaded our dataset, its time we take steps to understand the structure and basic characteristics of the data. \n",
    "### Inspect the Data\n",
    "We have already viewed the first five records of our dataset, now we will check the number of rows and columns of our data."
   ]
  },
  {
   "cell_type": "code",
   "execution_count": 2,
   "id": "82d48441-1ab6-4260-b516-30bd9f485f47",
   "metadata": {},
   "outputs": [
    {
     "name": "stdout",
     "output_type": "stream",
     "text": [
      "Our dataset has 10903 rows and 14 columns.\n"
     ]
    }
   ],
   "source": [
    "# Display DataFrame's dimensions\n",
    "shape = covid.shape\n",
    "print(f\"Our dataset has {shape[0]} rows and {shape[1]} columns.\")"
   ]
  },
  {
   "cell_type": "markdown",
   "id": "c5d24a7b-830c-47a9-af65-c85249c54045",
   "metadata": {},
   "source": [
    "### Understanding the Variables\n",
    "Here we will identify the types of variables and identify variables with missing values. We will also give a brief explanation corresponding to ech variable."
   ]
  },
  {
   "cell_type": "code",
   "execution_count": 3,
   "id": "cac4e0fa-a3c8-4e56-abb1-b668a28544d0",
   "metadata": {},
   "outputs": [
    {
     "name": "stdout",
     "output_type": "stream",
     "text": [
      "<class 'pandas.core.frame.DataFrame'>\n",
      "RangeIndex: 10903 entries, 0 to 10902\n",
      "Data columns (total 14 columns):\n",
      " #   Column                   Non-Null Count  Dtype \n",
      "---  ------                   --------------  ----- \n",
      " 0   Date                     10903 non-null  object\n",
      " 1   Continent_Name           10903 non-null  object\n",
      " 2   Two_Letter_Country_Code  10903 non-null  object\n",
      " 3   Country_Region           10903 non-null  object\n",
      " 4   Province_State           10903 non-null  object\n",
      " 5   positive                 10903 non-null  int64 \n",
      " 6   hospitalized             10903 non-null  int64 \n",
      " 7   recovered                10903 non-null  int64 \n",
      " 8   death                    10903 non-null  int64 \n",
      " 9   total_tested             10903 non-null  int64 \n",
      " 10  active                   10903 non-null  int64 \n",
      " 11  hospitalizedCurr         10903 non-null  int64 \n",
      " 12  daily_tested             10903 non-null  int64 \n",
      " 13  daily_positive           10903 non-null  int64 \n",
      "dtypes: int64(9), object(5)\n",
      "memory usage: 1.2+ MB\n"
     ]
    }
   ],
   "source": [
    "# View general information\n",
    "covid.info()"
   ]
  },
  {
   "cell_type": "markdown",
   "id": "5c17ea68-326d-4ead-89dd-3d9b08a4361d",
   "metadata": {},
   "source": [
    "Our dataset has **10903** rows and **14** columns as stipulated in the table above. The DataFrame do not have missing values. It has 5 columns of the type **object** (strings) and 9 columns of the type **inte64** which are typically **integers**. The following is a breakdown of the column names and an explanation of what they are:\n",
    "1. `Date`: Date.\n",
    "2. `Continent_Name`: Continent names.\n",
    "3. `Two_Letter_Country_Code`: Country codes.\n",
    "4. `Country_Region`: Country names.\n",
    "5. `Province_State`: States/province names; value is All States when state/provincial level data is not available.\n",
    "6. `positive`: Cumulative number of positive cases reported.\n",
    "7. `hospitalized`: Cumulative number of hospitalized cases reported.\n",
    "8. `recovered`: Cumulative number of recovered cases reported.\n",
    "9. `death`: Cumulative number of deaths reported.\n",
    "10. `total_tested`: Cumulative number of tests conducted.\n",
    "11. `active`: Number of actively cases on that day.\n",
    "12. `hospitalizedCurr`: Number of actively hospitalized cases on that day.\n",
    "13. `daily_tested`: Number of tests conducted on the day; if daily data is unavailable, daily tested is averaged across number of days in between.\n",
    "14. `daily_positive`: Number of positive cases reported on the day; if daily data is unavailable, daily positive is averaged across number of days in.\n",
    "### Check for Duplicates.\n",
    "We will check if our dataset has duplicated records."
   ]
  },
  {
   "cell_type": "code",
   "execution_count": 4,
   "id": "aa525093-f809-45c2-8484-f36ea17eaf41",
   "metadata": {},
   "outputs": [
    {
     "data": {
      "text/plain": [
       "0"
      ]
     },
     "execution_count": 4,
     "metadata": {},
     "output_type": "execute_result"
    }
   ],
   "source": [
    "# Check for duplicated rows\n",
    "covid.duplicated().sum()"
   ]
  },
  {
   "cell_type": "markdown",
   "id": "bb021d90-33cb-4590-899c-19c87624fbc7",
   "metadata": {},
   "source": [
    "Our dataset do not have duplicates.\n",
    "### Summary Statistics\n",
    "Having checked for missing values and duplicates, we found none of course, let us go ahead and display the summary statistics in order to have a general overview of the statistical makeup of our data. "
   ]
  },
  {
   "cell_type": "code",
   "execution_count": 5,
   "id": "a5282441-fcef-4410-a488-73df14e3b9f9",
   "metadata": {},
   "outputs": [
    {
     "name": "stdout",
     "output_type": "stream",
     "text": [
      "           positive  hospitalized      recovered         death  total_tested  \\\n",
      "count  1.090300e+04  10903.000000   10903.000000  10903.000000  1.090300e+04   \n",
      "mean   1.776802e+04    766.402550    2409.220490    947.592956  1.954757e+05   \n",
      "std    9.314346e+04   5626.325766   11254.209177   5507.242206  8.190222e+05   \n",
      "min    0.000000e+00      0.000000       0.000000      0.000000  0.000000e+00   \n",
      "25%    4.400000e+01      0.000000       0.000000      0.000000  2.147500e+03   \n",
      "50%    1.026000e+03      0.000000       0.000000      6.000000  3.035800e+04   \n",
      "75%    7.440000e+03      0.000000     500.500000    136.000000  1.252850e+05   \n",
      "max    1.783570e+06  89590.000000  171883.000000  98536.000000  1.693689e+07   \n",
      "\n",
      "              active  hospitalizedCurr   daily_tested  daily_positive  \n",
      "count   10903.000000      10903.000000   10903.000000    10903.000000  \n",
      "mean     4472.194717        454.074475    6841.403283      497.884619  \n",
      "std     22277.479931       2253.045376   27198.457892     2354.834051  \n",
      "min        -2.000000          0.000000 -330230.000000    -4735.000000  \n",
      "25%         0.000000          0.000000      71.000000        1.000000  \n",
      "50%         0.000000          0.000000    1048.000000       29.000000  \n",
      "75%       660.500000         28.000000    4688.500000      264.000000  \n",
      "max    280931.000000      33004.000000  492276.000000    63047.000000  \n"
     ]
    }
   ],
   "source": [
    "# Summary Statistics for numeric columns\n",
    "print(covid.describe())"
   ]
  },
  {
   "cell_type": "code",
   "execution_count": 6,
   "id": "51d27c72-8346-45cd-a2c2-9bb5977621ed",
   "metadata": {},
   "outputs": [
    {
     "name": "stdout",
     "output_type": "stream",
     "text": [
      "              Date Continent_Name Two_Letter_Country_Code Country_Region  \\\n",
      "count        10903          10903                   10903          10903   \n",
      "unique         133              6                     109            109   \n",
      "top     2020-05-05  North America                      US  United States   \n",
      "freq           142           6452                    5032           5032   \n",
      "\n",
      "       Province_State  \n",
      "count           10903  \n",
      "unique             81  \n",
      "top        All States  \n",
      "freq             3781  \n"
     ]
    }
   ],
   "source": [
    "# Summary Statistics for qualitative columns\n",
    "print(covid.describe(include = ['object']))"
   ]
  },
  {
   "cell_type": "markdown",
   "id": "0b23e766-4a9e-426c-87c5-420c3e54bae9",
   "metadata": {},
   "source": [
    "## Data Cleaning\n",
    "Before we begin figuring out answers to our questions, it is necessary to do some data cleaning. We have no missing values to deal with and no duplicate values to drop. Our data cleaning will dwell much on making the column names formated in a way that will be easy to work with, filtering our data to only include rows necessary for our analysis, droping columns that will not be used in our project and changing the `Date` column data type from **object** to **DateTime**. \n",
    "### Cleaning column names\n",
    "Let us format the column names so that they become consistent and easy to read and work with. "
   ]
  },
  {
   "cell_type": "code",
   "execution_count": 7,
   "id": "503db5c8-b014-4684-b2fc-196c10f6c97b",
   "metadata": {},
   "outputs": [
    {
     "name": "stdout",
     "output_type": "stream",
     "text": [
      "date\n",
      "continent_name\n",
      "two_letter_country_code\n",
      "country_region\n",
      "province_state\n",
      "positive\n",
      "hospitalized\n",
      "recovered\n",
      "death\n",
      "total_tested\n",
      "active\n",
      "hospitalized_curr\n",
      "daily_tested\n",
      "daily_positive\n"
     ]
    }
   ],
   "source": [
    "# making column names all lowercase\n",
    "covid.columns = covid.columns.str.lower()\n",
    "\n",
    "# renaming hospitalized column\n",
    "covid.rename(columns = {'hospitalizedcurr': 'hospitalized_curr'}, inplace = True)\n",
    "\n",
    "# Display the cleaned column names\n",
    "for i in covid.columns:\n",
    "    print(i)"
   ]
  },
  {
   "cell_type": "markdown",
   "id": "0e99a363-6f38-400b-bdea-3756a88b1969",
   "metadata": {},
   "source": [
    "### Change `date` column datatype\n",
    "We will change `date` to **datetime** datatype."
   ]
  },
  {
   "cell_type": "code",
   "execution_count": 8,
   "id": "b7c61d54-02a8-43bf-ad38-0c2df8176cbb",
   "metadata": {},
   "outputs": [
    {
     "name": "stdout",
     "output_type": "stream",
     "text": [
      "datetime64[ns]\n"
     ]
    }
   ],
   "source": [
    "# Convert data column to datetime datatype\n",
    "covid['date'] = pd.to_datetime(covid['date'])\n",
    "\n",
    "# Display the datatype for date column\n",
    "print(covid['date'].dtype)"
   ]
  },
  {
   "cell_type": "markdown",
   "id": "77683be3-9182-4e73-8dd3-a5865a294d40",
   "metadata": {},
   "source": [
    "### Isolating the Data we need\n",
    "We will filter our dataset to include only records that we need. After viewing the first five records of our dataset, one could easily see that `province_state` column has columns for **all states** and data for individual states. For example, data for the **United States**, there is data for all states combined and data points for individual states like Washington. Conducting our analysis with such a dataset would introduce bias. Therefore, we will filter our dataset to only include records at a **country** level. We serve our filtered data to a variable **covid_all_states**."
   ]
  },
  {
   "cell_type": "code",
   "execution_count": 9,
   "id": "744696c2-2a76-4453-9d9f-2b5a0be6634b",
   "metadata": {},
   "outputs": [
    {
     "name": "stdout",
     "output_type": "stream",
     "text": [
      "New number of rows is 3781.\n",
      "The number of columns is maintained, we still have 14 columns.\n"
     ]
    }
   ],
   "source": [
    "# All states data\n",
    "covid_all_states = covid[covid['province_state'] == 'All States'].reset_index(drop = True)\n",
    "shape = covid_all_states.shape\n",
    "\n",
    "# Display the dimensions\n",
    "print(f\"New number of rows is {shape[0]}.\", f\"The number of columns is maintained, we still have {shape[1]} columns.\", sep='\\n')"
   ]
  },
  {
   "cell_type": "markdown",
   "id": "a2c4a4cf-0ccf-4d6c-a019-70fc27b0e023",
   "metadata": {},
   "source": [
    "After filtering our dataset to include data at a **country** level, the number of records for our data has reduced from **10, 903** to **3, 781**. Even though we can work with this dataset to find trends and relationships for cummulative variables and then for daily variables, we will choose to divide our dataset into two DataFrames, one related to daily measures which will be called **covid_all_states_daily** and the other related to cummulative measures which will go by the name of **covid_all_states_cummulative**."
   ]
  },
  {
   "cell_type": "code",
   "execution_count": 10,
   "id": "c6df8d04-e8f8-4caf-be33-18c879de78d8",
   "metadata": {},
   "outputs": [
    {
     "name": "stdout",
     "output_type": "stream",
     "text": [
      "(3781, 8)\n",
      "(3781, 6)\n"
     ]
    }
   ],
   "source": [
    "# Columns related to cummulative measures\n",
    "covid_all_states_cummulative = covid_all_states[['date', 'continent_name', \\\n",
    "                                                 'two_letter_country_code', 'positive',\\\n",
    "                                                 'hospitalized', 'recovered', 'death', 'total_tested']]\n",
    "\n",
    "# Columns related to daily measures\n",
    "covid_all_states_daily = covid_all_states[['date', 'country_region', 'active', 'hospitalized_curr', 'daily_tested', 'daily_positive']]\n",
    "\n",
    "# View the dimensions of the the datasets to confirm if filtering has been successful\n",
    "print(covid_all_states_cummulative.shape, covid_all_states_daily.shape, sep='\\n')"
   ]
  },
  {
   "cell_type": "markdown",
   "id": "4ac8eab2-81c9-4c58-98bf-934849a8676a",
   "metadata": {},
   "source": [
    "Now that we have isolated our data to only inclide data points that we need for our analysis, it is time we start answering our questions. \n",
    "## Identifying Countries with the highest number of Deaths\n",
    "To identify countries with the highest number of deaths, we will first group **covid_all_states_cummulative** DataFrame by `two_letter_country_code` in order to view the maximum values for cummulative deaths for each country. Our focus is to find the top ten countries with highest numbers of cummulative deaths. We will first display our results in a table, then we will plot a horizontal bar chart for the same."
   ]
  },
  {
   "cell_type": "code",
   "execution_count": 11,
   "id": "2a1eea8a-0fe9-4b91-8469-51d08df0ff2e",
   "metadata": {},
   "outputs": [
    {
     "name": "stdout",
     "output_type": "stream",
     "text": [
      "                Cummulative Deaths\n",
      "United States                98536\n",
      "Italy                        33415\n",
      "United Kingdom               33186\n",
      "Belgium                       8903\n",
      "Russua                        4693\n",
      "Turkey                        4540\n",
      "Sweden                        4395\n",
      "Canada                        3682\n",
      "New Zealand                   1421\n",
      "Poland                        1065\n"
     ]
    }
   ],
   "source": [
    "# A pivot table for cummulative deaths by country\n",
    "covid_deaths_cum = covid_all_states_cummulative.\\\n",
    "pivot_table(values = 'death', index = 'two_letter_country_code', aggfunc = 'max').sort_values(by = 'death', ascending = False).head(10)\n",
    "covid_deaths_cum.index = ['United States', 'Italy', 'United Kingdom', 'Belgium', 'Russua', 'Turkey', 'Sweden', 'Canada', 'New Zealand', 'Poland']\n",
    "covid_deaths_cum.columns = ['Cummulative Deaths']\n",
    "print(covid_deaths_cum)"
   ]
  },
  {
   "cell_type": "markdown",
   "id": "aa0a0023-b69b-4628-b4d7-72bc65127d08",
   "metadata": {},
   "source": [
    "From the table above, we can easily see that the country with the highest number of deaths cummulatively is the **United States of America** seconded by **Italy**. Let us now visualize our table."
   ]
  },
  {
   "cell_type": "code",
   "execution_count": 12,
   "id": "6563154b-9b4c-4f96-8c82-a4b74633ae51",
   "metadata": {},
   "outputs": [
    {
     "data": {
      "image/png": "[encoded data removed]",
      "text/plain": [
       "<Figure size 640x480 with 1 Axes>"
      ]
     },
     "metadata": {},
     "output_type": "display_data"
    }
   ],
   "source": [
    "sns.barplot(data = covid_deaths_cum, orient = 'h', x = 'Cummulative Deaths', y = covid_deaths_cum.index)\n",
    "plt.grid(False)\n",
    "plt.ylabel('')\n",
    "plt.xlabel('')\n",
    "plt.tick_params(labeltop = True, labelbottom = False)\n",
    "plt.title('Top ten Countries with the highest cummulative Covid-19 Deaths')\n",
    "plt.show()"
   ]
  },
  {
   "cell_type": "markdown",
   "id": "a923f16a-a789-4413-ac15-8c0c5ce93e45",
   "metadata": {},
   "source": [
    "We can use the table and chart to answer our first question: **Which countries have had the highest number of deaths due to Covid-19**?\n",
    "\n",
    "_**Answer**_: \n",
    "1. **United States of America**: Cummulative Deaths of **98,536**.\n",
    "2. **Italy**: Cummulative Deaths of **33,425**.\n",
    "3. **United Kingdom**: Cummulative Deaths of **33,186**.\n",
    "## Extracting the Top Ten Tested Cases Countries\n",
    "Our goal here is to determine countries with highest **tested and confirmed cases**, meaning that we will consider all columns relating to **active** cases, **hospitalized** cases, **daily positive** cases and **daily tested** cases. We will present the results in a table format then we will visualize some important information extracted from the table. For this activity we will use the **covid_all_states_daily** DataFrame."
   ]
  },
  {
   "cell_type": "code",
   "execution_count": 13,
   "id": "67be9a0e-108a-4c64-ae15-1dbf72a46967",
   "metadata": {},
   "outputs": [
    {
     "name": "stdout",
     "output_type": "stream",
     "text": [
      "                 active  hospitalized    tested  positive\n",
      "country_region                                           \n",
      "United States         0             0  17282363   1877179\n",
      "Russia          6924890             0  10542266    406368\n",
      "Italy           6202214       1699003   4091291    251710\n",
      "India                 0             0   3692851     60959\n",
      "Turkey          2980960             0   2031192    163941\n",
      "Canada            56454             0   1654779     90873\n",
      "United Kingdom        0             0   1473672    166909\n",
      "Australia        134586          6655   1252900      7200\n",
      "Peru                  0             0    976790     59497\n",
      "Poland           538203             0    928256     23987\n"
     ]
    }
   ],
   "source": [
    "# Determine the top ten tested cases\n",
    "covid_all_states_daily_sum = covid_all_states_daily.groupby('country_region')[['active', 'hospitalized_curr', 'daily_tested', 'daily_positive']].sum()\n",
    "covid_all_states_daily_sum.rename(columns={'daily_tested':'tested', 'daily_positive':'positive', 'hospitalized_curr':'hospitalized'}, inplace = True)\n",
    "covid_all_states_daily_sum_sorted = covid_all_states_daily_sum.sort_values(by = 'tested', ascending = False)\n",
    "covid_top_ten = covid_all_states_daily_sum_sorted.head(10)\n",
    "print(covid_top_ten)"
   ]
  },
  {
   "cell_type": "markdown",
   "id": "0b6f2e6e-44bc-47f3-8707-29eb750e7cec",
   "metadata": {},
   "source": [
    "We can see from the table that the **United States** and **Russia** are the two countries with the highest number of Covid-19 tests. We will use this table for further analysis in order to answer the second question on **positive cases against the number of tests**. For now let us visualize the top ten countries with more Covid-19 tests made."
   ]
  },
  {
   "cell_type": "code",
   "execution_count": 14,
   "id": "6328699c-30c8-49dc-8324-8595d4cae38f",
   "metadata": {},
   "outputs": [
    {
     "data": {
      "image/png": "[encoded data removed]",
      "text/plain": [
       "<Figure size 640x480 with 1 Axes>"
      ]
     },
     "metadata": {},
     "output_type": "display_data"
    }
   ],
   "source": [
    "# Visualization\n",
    "sns.barplot(data=covid_top_ten, orient = 'h', x='tested', y=covid_top_ten.index)\n",
    "plt.grid(False)\n",
    "plt.ticklabel_format(axis = 'x', style = 'plain')\n",
    "plt.xticks([2500000, 7500000, 12500000, 17500000], ['2,500,000', '7,500,000', '12,500,000', '17,500,000'])\n",
    "plt.tick_params(labeltop = True, labelbottom = False)\n",
    "plt.ylabel('')\n",
    "plt.xlabel('')\n",
    "plt.show()"
   ]
  },
  {
   "cell_type": "markdown",
   "id": "b791f6ea-3546-44fb-a0d2-2d750ac2e111",
   "metadata": {},
   "source": [
    "## Identifying the Highest Positive Against Tested Cases\n",
    "Here we will essentially be determining the **positivity rate**. In other words, we will be trying to find the percentage of the total number of positive cases in a country in relation to the total number of covid-19 tests conducted in that country. After successfully calculating positivity rate, we will have to determine the countries with the highest positivity rates form the **top ten countries** with high Covid-19 tests. We will use the table that we created in the previous activity. For calculating positivity rate we will use the folowing formula:\n",
    "$$\n",
    "Positivity Rate = \\left(\\frac{Positive Cases}{Total Number of People Tested}\\right)*100\n",
    "$$\n",
    "We will add a column named **positivity_rate** to **covid_top_ten** DataFrame we created previously. We will assign the result to a variable named **positivity_rated**."
   ]
  },
  {
   "cell_type": "code",
   "execution_count": 15,
   "id": "413ed7d2-d532-41f9-ad43-f2196ea6d692",
   "metadata": {},
   "outputs": [
    {
     "name": "stdout",
     "output_type": "stream",
     "text": [
      "   country_region  positivity_rate\n",
      "0  United Kingdom        11.326062\n",
      "1   United States        10.861819\n",
      "2          Turkey         8.071172\n",
      "3           Italy         6.152337\n",
      "4            Peru         6.091074\n",
      "5          Canada         5.491549\n",
      "6          Russia         3.854655\n",
      "7          Poland         2.584093\n",
      "8           India         1.650730\n",
      "9       Australia         0.574667\n"
     ]
    }
   ],
   "source": [
    "positivity_rated = covid_top_ten.copy()\n",
    "positivity_rated['positivity_rate'] = (positivity_rated['positive']/positivity_rated['tested'])*100\n",
    "top_ten_positivity_rated = positivity_rated.sort_values(by='positivity_rate', ascending = False).head(10)['positivity_rate'].reset_index()\n",
    "print(top_ten_positivity_rated)"
   ]
  },
  {
   "cell_type": "markdown",
   "id": "51b98261-fd10-40b4-8ba9-000c366ba76f",
   "metadata": {},
   "source": [
    "We can now answer the second question: **Which countries have had the highest number of positive cases against the number of tests**?\n",
    "\n",
    "_**Answer**_: \n",
    "1. **United Kingdom**: Positivity Rate of **11%**.\n",
    "2. **United States**: Positivity Rate of **10.8%**.\n",
    "3. **Turkey**: Positivity Rate of **8%**.\n",
    "\n",
    "Let us create a chart for our findings."
   ]
  },
  {
   "cell_type": "code",
   "execution_count": 16,
   "id": "224cb914-ed03-4da4-9043-0be52d49703d",
   "metadata": {},
   "outputs": [
    {
     "data": {
      "image/png": "[encoded data removed]",
      "text/plain": [
       "<Figure size 640x480 with 1 Axes>"
      ]
     },
     "metadata": {},
     "output_type": "display_data"
    }
   ],
   "source": [
    "# Visualization\n",
    "sns.barplot(data = top_ten_positivity_rated, x = 'positivity_rate', y = 'country_region', orient = 'h')\n",
    "plt.ylabel('')\n",
    "plt.xlabel('')\n",
    "plt.tick_params(labeltop = True, labelbottom = False)\n",
    "plt.grid(False)\n",
    "plt.show()"
   ]
  },
  {
   "cell_type": "markdown",
   "id": "322f208c-6624-4ea0-88b5-dc9738b02839",
   "metadata": {},
   "source": [
    "## Scaling of Data to Population Level\n",
    "### Number of Tested Cases against Total Population\n",
    "In the first six months of the pandemic, countries were boasting on how effective they were in responding to the pandemic. One of the key factor that was used for telling how effective was their response  was **how much testing they have done**. Now, we approach this scenario with an assumption that the impact of the magnitude of testing can only be verified if weighed against the population of each country. We will focus on the **top ten tested countries** to check if their testing initiatives were in balance with their population on those months. We have population data on the **top ten tested countries** during the first six months of the pandemic which we will use for scaling with their corresponding total number of covid-19 tests conductend. \n",
    "\n",
    "We will begin by adding a population column to the **covid_top_ten** DataFrame. The following are the population figures for every country with higher numbers of tested cases. \n",
    "1. `United States`: 331,002,651\n",
    "2. `Russia`: 145,934,462\n",
    "3. `Italy`: 60,461,826\n",
    "4. `India`: 1,380,004,385\n",
    "5. `Turkey`: 84,339,067\n",
    "6. `Canada`: 37,742,154\n",
    "7. `United Kingdom`: 67,886,011\n",
    "8. `Australia`: 25,499,884\n",
    "9. `Peru`: 32,971,854\n",
    "10. `Poland`: 37,846,611\n",
    "\n",
    "We will use these population figures for our analysis. We will first come up with a single DataFrame that will have **tested** figures and **population** numbers for each country in the top ten tested countries."
   ]
  },
  {
   "cell_type": "code",
   "execution_count": 17,
   "id": "9895fb63-be94-4b18-9ae4-0cb2d75597bb",
   "metadata": {},
   "outputs": [
    {
     "name": "stdout",
     "output_type": "stream",
     "text": [
      "                 active  hospitalized    tested  positive  population\n",
      "United States         0             0  17282363   1877179   331002651\n",
      "Russia          6924890             0  10542266    406368   145934462\n",
      "Italy           6202214       1699003   4091291    251710    60461826\n",
      "India                 0             0   3692851     60959  1380004385\n",
      "Turkey          2980960             0   2031192    163941    84339067\n",
      "Canada            56454             0   1654779     90873    37742154\n",
      "United Kingdom        0             0   1473672    166909    67886011\n",
      "Australia        134586          6655   1252900      7200    25499884\n",
      "Peru                  0             0    976790     59497    32971854\n",
      "Poland           538203             0    928256     23987    37846611\n"
     ]
    }
   ],
   "source": [
    "# population list\n",
    "pop_dict = {'population':[331002651, 145934462, 60461826, 1380004385, 84339067, 37742154, 67886011, 25499884, 32971854, 37846611]}\n",
    "pop = pd.DataFrame(pop_dict)\n",
    "pop.index = ['United States', 'Russia', 'Italy', 'India', 'Turkey', 'Canada', 'United Kingdom', 'Australia', 'Peru', 'Poland']\n",
    "covid_top_ten_pop = covid_top_ten\n",
    "covid_top_ten_pop = pd.merge(left = covid_top_ten_pop, right = pop, left_index= True, right_index= True)\n",
    "print(covid_top_ten_pop)"
   ]
  },
  {
   "cell_type": "markdown",
   "id": "99a25730-7e80-4ebf-ab0e-595199952f1a",
   "metadata": {},
   "source": [
    "Let us use the above table to generate a column that will have scaled tested figures adjusted for the the number of people in the respective countries with highest tested figures. We will add a new column name **percentage_tested** to the above table. The following formula will be used:\n",
    "$$\n",
    "Population Scale = \\left(\\frac{Tested Population}{Total Population}\\right)*100\n",
    "$$\n",
    "We will be calculating the percentage of the population that tested for covid-19 in the first six months of the pandemic."
   ]
  },
  {
   "cell_type": "code",
   "execution_count": 18,
   "id": "10810622-105b-49e6-acec-33e12037cea1",
   "metadata": {},
   "outputs": [
    {
     "name": "stdout",
     "output_type": "stream",
     "text": [
      "                  tested  population  percentage_tested\n",
      "United States   17282363   331002651           5.221216\n",
      "Russia          10542266   145934462           7.223973\n",
      "Italy            4091291    60461826           6.766734\n",
      "India            3692851  1380004385           0.267597\n",
      "Turkey           2031192    84339067           2.408364\n",
      "Canada           1654779    37742154           4.384432\n",
      "United Kingdom   1473672    67886011           2.170804\n",
      "Australia        1252900    25499884           4.913356\n",
      "Peru              976790    32971854           2.962496\n",
      "Poland            928256    37846611           2.452679\n"
     ]
    }
   ],
   "source": [
    "covid_top_ten_pop['percentage_tested'] = (covid_top_ten_pop['tested']/covid_top_ten_pop['population'])*100\n",
    "print(covid_top_ten_pop[['tested', 'population', 'percentage_tested']])"
   ]
  },
  {
   "cell_type": "markdown",
   "id": "dfd443b1-ef63-4f91-b23b-e369908e410e",
   "metadata": {},
   "source": [
    "If we go by the above output, we can be able to answer the third question: **Which countries have made the best effort in terms of the number of covid-19 tests conducted related to their population**?\n",
    "\n",
    "_**Answer**_:\n",
    "1. **Russua**- Percentage of the population tested: **7%**. \n",
    "2. **Italy**- Percentage pf the population tested: **6.8%**\n",
    "3. **United States**- Percentage of the population tested: **5%**.\n",
    "\n",
    "Let us now use some of the steps we took to come up with a table above to calculate the `active`, `hospitalized`, and `positive` cases as fractons of their total population for countries with more tested cases. The following activities are aimed at answering the last question of our project.\n",
    "### Variables as Fractions of their Population level"
   ]
  },
  {
   "cell_type": "code",
   "execution_count": 19,
   "id": "7b262787-9609-4f39-bc2e-192d2ee14c9a",
   "metadata": {},
   "outputs": [
    {
     "name": "stdout",
     "output_type": "stream",
     "text": [
      "                active_cases  hospitalized_cases  tested_cases  positive_cases\n",
      "United States       0.000000            0.000000      5.221216        0.567119\n",
      "Russia              4.745205            0.000000      7.223973        0.278459\n",
      "Italy              10.258066            2.810042      6.766734        0.416312\n",
      "India               0.000000            0.000000      0.267597        0.004417\n",
      "Turkey              3.534495            0.000000      2.408364        0.194383\n",
      "Canada              0.149578            0.000000      4.384432        0.240773\n",
      "United Kingdom      0.000000            0.000000      2.170804        0.245867\n",
      "Australia           0.527791            0.026098      4.913356        0.028235\n",
      "Peru                0.000000            0.000000      2.962496        0.180448\n",
      "Poland              1.422064            0.000000      2.452679        0.063380\n"
     ]
    }
   ],
   "source": [
    "covid_top_ten_percentage = covid_top_ten_pop.iloc[:, :-1]\n",
    "covid_top_ten_percentage['active'] = (covid_top_ten_percentage['active']/covid_top_ten_percentage['population'])*100\n",
    "covid_top_ten_percentage['hospitalized'] = (covid_top_ten_percentage['hospitalized']/covid_top_ten_percentage['population'])*100\n",
    "covid_top_ten_percentage['tested'] = (covid_top_ten_percentage['tested']/covid_top_ten_percentage['population'])*100\n",
    "covid_top_ten_percentage['positive'] = (covid_top_ten_percentage['positive']/covid_top_ten_percentage['population'])*100\n",
    "covid_top_ten_percentage.rename(columns = {'active':'active_cases', 'hospitalized':'hospitalized_cases',\\\n",
    "                                           'tested':'tested_cases', 'positive':'positive_cases'}, inplace = True)\n",
    "covid_top_ten_percentage.drop('population', axis = 1, inplace = True)\n",
    "print(covid_top_ten_percentage)"
   ]
  },
  {
   "cell_type": "markdown",
   "id": "0ec5cd83-6636-4b26-aacb-f330bead5a28",
   "metadata": {},
   "source": [
    "We have successfully presented each country's data as percentages of their respective total populations. However, it is very difficult to determine how each country is affected by covid-19 using this table as the values are more varied. One of the ways we can determine countries that are most impacted by covid-19 using the table above is by **ranking** the the individual datapoints and then aggregating the **ranks**. The countries with higher aggregated ranks are the mostly affected by the pandemic. We will begin by determining the ranks then we will sum the ranks for each country and keep them in a new column called **total_ranks**. We will lastly sort our table by **total ranks** in descending older to determine the countries mostly affected by the pandemic."
   ]
  },
  {
   "cell_type": "code",
   "execution_count": 20,
   "id": "346fb0b8-7a81-4ed3-9749-338a4477767b",
   "metadata": {},
   "outputs": [
    {
     "name": "stdout",
     "output_type": "stream",
     "text": [
      "                active_rank  hosp_rank  tested_cases  pos_rank  total_ranked\n",
      "Italy                  10.0       10.0           9.0       9.0          38.0\n",
      "Russia                  9.0        4.5          10.0       8.0          31.5\n",
      "United States           2.5        4.5           8.0      10.0          25.0\n",
      "Australia               6.0        9.0           7.0       2.0          24.0\n",
      "Canada                  5.0        4.5           6.0       6.0          21.5\n",
      "Turkey                  8.0        4.5           3.0       5.0          20.5\n",
      "Poland                  7.0        4.5           4.0       3.0          18.5\n",
      "United Kingdom          2.5        4.5           2.0       7.0          16.0\n",
      "Peru                    2.5        4.5           5.0       4.0          16.0\n",
      "India                   2.5        4.5           1.0       1.0           9.0\n"
     ]
    }
   ],
   "source": [
    "covid_top_ten_percentage_ranked = covid_top_ten_percentage.rank()\n",
    "covid_top_ten_percentage_ranked['total_ranked'] = covid_top_ten_percentage_ranked.sum(axis=1)\n",
    "covid_top_ten_percentage_ranked.rename(\\\n",
    "    columns={'active_cases':'active_rank',\\\n",
    "             'hospitalized_cases':'hosp_rank',\\\n",
    "             'tested_case':'tested_rank', 'positive_cases':'pos_rank'}, inplace = True)\n",
    "covid_top_ten_percentage_ranked.sort_values(by='total_ranked', ascending = False, inplace = True)\n",
    "print(covid_top_ten_percentage_ranked)"
   ]
  },
  {
   "cell_type": "markdown",
   "id": "29478ab0-5879-492b-9717-c7b2b20280d2",
   "metadata": {},
   "source": [
    "This table contains answers for our last question: **Which Countries were ultimately the most and the least affected related to their population**?\n",
    "\n",
    "**The most affected country in relation to its population**:\n",
    "* Italy\n",
    " \n",
    "**The least affected country in relation to its population**:\n",
    "* India"
   ]
  },
  {
   "cell_type": "markdown",
   "id": "5cb52c4b-cc94-4232-894e-b141214830df",
   "metadata": {},
   "source": [
    "## Findings\n",
    "1. The **United States of America**, **Italy** and the **United Kingdom** are the countries that registered the highest number of deaths due to Covid-19 in the first six months of the pandemic.\n",
    "2. The **United Kingdom**, the **United States of America** and **Turkey** are the countries that registered the highest number of positive cases against the number of tests conducted in the first six months of the pandemic.\n",
    "3. **Russia**, **Italy** and the **United States of America** are countries which made the best effort in terms of the number of Covid-19 tests conducted in relation to their population in the first six months of the pandemic.\n",
    "4. **Italy** is the country that was mostly affected by the pandemic in relation to its population and **India** is the country that was least affected by the pandemic in relation to its population in the first six months of the pandemic.\n",
    "\n",
    "## Conclusion \n",
    "In this project we were mostly focused on determing the mostly affected countries by the coronavirus and analysing how they responded to the pandemic through testing activities. We used data collected in the first six months of the pandemic, that is from January 2020 through July 2020."
   ]
  }
 ],
 "metadata": {
  "kernelspec": {
   "display_name": "Python 3 (ipykernel)",
   "language": "python",
   "name": "python3"
  },
  "language_info": {
   "codemirror_mode": {
    "name": "ipython",
    "version": 3
   },
   "file_extension": ".py",
   "mimetype": "text/x-python",
   "name": "python",
   "nbconvert_exporter": "python",
   "pygments_lexer": "ipython3",
   "version": "3.12.7"
  }
 },
 "nbformat": 4,
 "nbformat_minor": 5
}
