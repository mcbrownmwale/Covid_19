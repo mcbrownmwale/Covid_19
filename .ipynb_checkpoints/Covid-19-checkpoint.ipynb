{
 "cells": [
  {
   "cell_type": "markdown",
   "id": "aa2fb90e-60a7-47af-801c-35e377e442c2",
   "metadata": {},
   "source": [
    "# Investigating Covid-19 Virus Trends (January 2020 - July 2020)\n",
    "\n",
    "## Project Overview\n",
    "For this project will investigate the trends of a Coronavirus in different countries covering a period from January 2020 to July 2020. Coronavirus has been in existence for over 5 years and there is a lot of data on how the virus has evolved as well as on how countries have been affected. However, in our project we will only be interested in understanding the trends for the first 6 months of the virus's  existence in the world. We will use a dataset that was downloaded from kaggle.com.\n",
    "## Project Questions\n",
    "Our analysis will be designed to find answers to the following questions:\n",
    "1. Which countries have had the highest number of deaths due to COVID-19?\n",
    "2. Which countries have had the highest number of positive cases against the number of tests?\n",
    "3. Which countries have made the best effort in terms of the number of COVID-19 tests conducted related to their population?\n",
    "4. Which countries were ultimately the most and the least affected related their population?\n",
    "## Import Libraries and Rean in Data\n",
    "We will first import the necessary Python Libraries that will be used for this project then we load the data."
   ]
  },
  {
   "cell_type": "code",
   "execution_count": 1,
   "id": "dbc4856d-edff-400d-bb97-9d3aa782ed7e",
   "metadata": {},
   "outputs": [
    {
     "data": {
      "text/html": [
       "<div>\n",
       "<style scoped>\n",
       "    .dataframe tbody tr th:only-of-type {\n",
       "        vertical-align: middle;\n",
       "    }\n",
       "\n",
       "    .dataframe tbody tr th {\n",
       "        vertical-align: top;\n",
       "    }\n",
       "\n",
       "    .dataframe thead th {\n",
       "        text-align: right;\n",
       "    }\n",
       "</style>\n",
       "<table border=\"1\" class=\"dataframe\">\n",
       "  <thead>\n",
       "    <tr style=\"text-align: right;\">\n",
       "      <th></th>\n",
       "      <th>Date</th>\n",
       "      <th>Continent_Name</th>\n",
       "      <th>Two_Letter_Country_Code</th>\n",
       "      <th>Country_Region</th>\n",
       "      <th>Province_State</th>\n",
       "      <th>positive</th>\n",
       "      <th>hospitalized</th>\n",
       "      <th>recovered</th>\n",
       "      <th>death</th>\n",
       "      <th>total_tested</th>\n",
       "      <th>active</th>\n",
       "      <th>hospitalizedCurr</th>\n",
       "      <th>daily_tested</th>\n",
       "      <th>daily_positive</th>\n",
       "    </tr>\n",
       "  </thead>\n",
       "  <tbody>\n",
       "    <tr>\n",
       "      <th>0</th>\n",
       "      <td>2020-01-20</td>\n",
       "      <td>Asia</td>\n",
       "      <td>KR</td>\n",
       "      <td>South Korea</td>\n",
       "      <td>All States</td>\n",
       "      <td>1</td>\n",
       "      <td>0</td>\n",
       "      <td>0</td>\n",
       "      <td>0</td>\n",
       "      <td>4</td>\n",
       "      <td>0</td>\n",
       "      <td>0</td>\n",
       "      <td>0</td>\n",
       "      <td>0</td>\n",
       "    </tr>\n",
       "    <tr>\n",
       "      <th>1</th>\n",
       "      <td>2020-01-22</td>\n",
       "      <td>North America</td>\n",
       "      <td>US</td>\n",
       "      <td>United States</td>\n",
       "      <td>All States</td>\n",
       "      <td>1</td>\n",
       "      <td>0</td>\n",
       "      <td>0</td>\n",
       "      <td>0</td>\n",
       "      <td>1</td>\n",
       "      <td>0</td>\n",
       "      <td>0</td>\n",
       "      <td>0</td>\n",
       "      <td>0</td>\n",
       "    </tr>\n",
       "    <tr>\n",
       "      <th>2</th>\n",
       "      <td>2020-01-22</td>\n",
       "      <td>North America</td>\n",
       "      <td>US</td>\n",
       "      <td>United States</td>\n",
       "      <td>Washington</td>\n",
       "      <td>1</td>\n",
       "      <td>0</td>\n",
       "      <td>0</td>\n",
       "      <td>0</td>\n",
       "      <td>1</td>\n",
       "      <td>0</td>\n",
       "      <td>0</td>\n",
       "      <td>0</td>\n",
       "      <td>0</td>\n",
       "    </tr>\n",
       "    <tr>\n",
       "      <th>3</th>\n",
       "      <td>2020-01-23</td>\n",
       "      <td>North America</td>\n",
       "      <td>US</td>\n",
       "      <td>United States</td>\n",
       "      <td>All States</td>\n",
       "      <td>1</td>\n",
       "      <td>0</td>\n",
       "      <td>0</td>\n",
       "      <td>0</td>\n",
       "      <td>1</td>\n",
       "      <td>0</td>\n",
       "      <td>0</td>\n",
       "      <td>0</td>\n",
       "      <td>0</td>\n",
       "    </tr>\n",
       "    <tr>\n",
       "      <th>4</th>\n",
       "      <td>2020-01-23</td>\n",
       "      <td>North America</td>\n",
       "      <td>US</td>\n",
       "      <td>United States</td>\n",
       "      <td>Washington</td>\n",
       "      <td>1</td>\n",
       "      <td>0</td>\n",
       "      <td>0</td>\n",
       "      <td>0</td>\n",
       "      <td>1</td>\n",
       "      <td>0</td>\n",
       "      <td>0</td>\n",
       "      <td>0</td>\n",
       "      <td>0</td>\n",
       "    </tr>\n",
       "  </tbody>\n",
       "</table>\n",
       "</div>"
      ],
      "text/plain": [
       "         Date Continent_Name Two_Letter_Country_Code Country_Region  \\\n",
       "0  2020-01-20           Asia                      KR    South Korea   \n",
       "1  2020-01-22  North America                      US  United States   \n",
       "2  2020-01-22  North America                      US  United States   \n",
       "3  2020-01-23  North America                      US  United States   \n",
       "4  2020-01-23  North America                      US  United States   \n",
       "\n",
       "  Province_State  positive  hospitalized  recovered  death  total_tested  \\\n",
       "0     All States         1             0          0      0             4   \n",
       "1     All States         1             0          0      0             1   \n",
       "2     Washington         1             0          0      0             1   \n",
       "3     All States         1             0          0      0             1   \n",
       "4     Washington         1             0          0      0             1   \n",
       "\n",
       "   active  hospitalizedCurr  daily_tested  daily_positive  \n",
       "0       0                 0             0               0  \n",
       "1       0                 0             0               0  \n",
       "2       0                 0             0               0  \n",
       "3       0                 0             0               0  \n",
       "4       0                 0             0               0  "
      ]
     },
     "execution_count": 1,
     "metadata": {},
     "output_type": "execute_result"
    }
   ],
   "source": [
    "# Import Pandas and Numpy for data manipulation and wrangling\n",
    "import pandas as pd\n",
    "import numpy as np\n",
    "\n",
    "# Import matplotlib and seaborn for data visualisation\n",
    "import matplotlib.pyplot as plt\n",
    "import seaborn as sns\n",
    "sns.set_theme()\n",
    "\n",
    "# Read in Data\n",
    "covid = pd.read_csv('covid_19.csv')\n",
    "\n",
    "# Display the first five records of the data\n",
    "covid.head()"
   ]
  },
  {
   "cell_type": "markdown",
   "id": "c87810e0-e55e-4ce8-8b27-d642de85eae4",
   "metadata": {},
   "source": [
    "## Data Understanding\n",
    "Now that we have successfully loaded our dataset, its time we take steps to understand the structure and basic characteristics of the data. \n",
    "### Inspect the Data\n",
    "We have already the first five records of our dataset, now we will check the number of rows and columns of our data."
   ]
  },
  {
   "cell_type": "code",
   "execution_count": 3,
   "id": "82d48441-1ab6-4260-b516-30bd9f485f47",
   "metadata": {},
   "outputs": [
    {
     "name": "stdout",
     "output_type": "stream",
     "text": [
      "Our dataset have 10903 rows and 14 columns.\n"
     ]
    }
   ],
   "source": [
    "shape = covid.shape\n",
    "print(f\"Our dataset have {shape[0]} rows and {shape[1]} columns.\")"
   ]
  },
  {
   "cell_type": "markdown",
   "id": "c5d24a7b-830c-47a9-af65-c85249c54045",
   "metadata": {},
   "source": [
    "### Understanding the Variables\n",
    "Here we will identify the types of variables and identify variables with missing values. We will also give a brief explanation corresponding to ech variable."
   ]
  },
  {
   "cell_type": "code",
   "execution_count": 4,
   "id": "cac4e0fa-a3c8-4e56-abb1-b668a28544d0",
   "metadata": {},
   "outputs": [
    {
     "name": "stdout",
     "output_type": "stream",
     "text": [
      "<class 'pandas.core.frame.DataFrame'>\n",
      "RangeIndex: 10903 entries, 0 to 10902\n",
      "Data columns (total 14 columns):\n",
      " #   Column                   Non-Null Count  Dtype \n",
      "---  ------                   --------------  ----- \n",
      " 0   Date                     10903 non-null  object\n",
      " 1   Continent_Name           10903 non-null  object\n",
      " 2   Two_Letter_Country_Code  10903 non-null  object\n",
      " 3   Country_Region           10903 non-null  object\n",
      " 4   Province_State           10903 non-null  object\n",
      " 5   positive                 10903 non-null  int64 \n",
      " 6   hospitalized             10903 non-null  int64 \n",
      " 7   recovered                10903 non-null  int64 \n",
      " 8   death                    10903 non-null  int64 \n",
      " 9   total_tested             10903 non-null  int64 \n",
      " 10  active                   10903 non-null  int64 \n",
      " 11  hospitalizedCurr         10903 non-null  int64 \n",
      " 12  daily_tested             10903 non-null  int64 \n",
      " 13  daily_positive           10903 non-null  int64 \n",
      "dtypes: int64(9), object(5)\n",
      "memory usage: 1.2+ MB\n"
     ]
    }
   ],
   "source": [
    "covid.info()"
   ]
  },
  {
   "cell_type": "code",
   "execution_count": null,
   "id": "fe625440-eddc-4f1a-a35a-f705fa9588f9",
   "metadata": {},
   "outputs": [],
   "source": []
  }
 ],
 "metadata": {
  "kernelspec": {
   "display_name": "Python 3 (ipykernel)",
   "language": "python",
   "name": "python3"
  },
  "language_info": {
   "codemirror_mode": {
    "name": "ipython",
    "version": 3
   },
   "file_extension": ".py",
   "mimetype": "text/x-python",
   "name": "python",
   "nbconvert_exporter": "python",
   "pygments_lexer": "ipython3",
   "version": "3.12.7"
  }
 },
 "nbformat": 4,
 "nbformat_minor": 5
}
