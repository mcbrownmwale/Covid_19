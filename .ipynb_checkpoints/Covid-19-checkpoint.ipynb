{
 "cells": [
  {
   "cell_type": "markdown",
   "id": "aa2fb90e-60a7-47af-801c-35e377e442c2",
   "metadata": {},
   "source": [
    "# Investigating Covid-19 Virus Trends (January 2020 - July 2020)\n",
    "\n",
    "## Project Overview\n",
    "For this project will investigate the trends of a Coronavirus in different countries covering a period from January 2020 to July 2020. Coronavirus has been in existence for over 5 years and there is a lot of data on how the virus has evolved as well as on how countries have been affected. However, in our project we will only be interested in understanding the trends for the first 6 months of the virus's  existence in the world. We will use a dataset that was downloaded from kaggle.com.\n",
    "## Project Questions\n",
    "Our analysis will be designed to find answers to the following questions:\n",
    "1. Which countries have had the highest number of deaths due to COVID-19?\n",
    "2. Which countries have had the highest number of positive cases against the number of tests?\n",
    "3. Which countries have made the best effort in terms of the number of COVID-19 tests conducted related to their population?\n",
    "4. Which countries were ultimately the most and the least affected related their population?\n",
    "## Import Libraries and Rean in Data\n",
    "We will first import the necessary Python Libraries that will be used for this project then we load the data."
   ]
  },
  {
   "cell_type": "code",
   "execution_count": 1,
   "id": "dbc4856d-edff-400d-bb97-9d3aa782ed7e",
   "metadata": {},
   "outputs": [
    {
     "data": {
      "text/html": [
       "<div>\n",
       "<style scoped>\n",
       "    .dataframe tbody tr th:only-of-type {\n",
       "        vertical-align: middle;\n",
       "    }\n",
       "\n",
       "    .dataframe tbody tr th {\n",
       "        vertical-align: top;\n",
       "    }\n",
       "\n",
       "    .dataframe thead th {\n",
       "        text-align: right;\n",
       "    }\n",
       "</style>\n",
       "<table border=\"1\" class=\"dataframe\">\n",
       "  <thead>\n",
       "    <tr style=\"text-align: right;\">\n",
       "      <th></th>\n",
       "      <th>Date</th>\n",
       "      <th>Continent_Name</th>\n",
       "      <th>Two_Letter_Country_Code</th>\n",
       "      <th>Country_Region</th>\n",
       "      <th>Province_State</th>\n",
       "      <th>positive</th>\n",
       "      <th>hospitalized</th>\n",
       "      <th>recovered</th>\n",
       "      <th>death</th>\n",
       "      <th>total_tested</th>\n",
       "      <th>active</th>\n",
       "      <th>hospitalizedCurr</th>\n",
       "      <th>daily_tested</th>\n",
       "      <th>daily_positive</th>\n",
       "    </tr>\n",
       "  </thead>\n",
       "  <tbody>\n",
       "    <tr>\n",
       "      <th>0</th>\n",
       "      <td>2020-01-20</td>\n",
       "      <td>Asia</td>\n",
       "      <td>KR</td>\n",
       "      <td>South Korea</td>\n",
       "      <td>All States</td>\n",
       "      <td>1</td>\n",
       "      <td>0</td>\n",
       "      <td>0</td>\n",
       "      <td>0</td>\n",
       "      <td>4</td>\n",
       "      <td>0</td>\n",
       "      <td>0</td>\n",
       "      <td>0</td>\n",
       "      <td>0</td>\n",
       "    </tr>\n",
       "    <tr>\n",
       "      <th>1</th>\n",
       "      <td>2020-01-22</td>\n",
       "      <td>North America</td>\n",
       "      <td>US</td>\n",
       "      <td>United States</td>\n",
       "      <td>All States</td>\n",
       "      <td>1</td>\n",
       "      <td>0</td>\n",
       "      <td>0</td>\n",
       "      <td>0</td>\n",
       "      <td>1</td>\n",
       "      <td>0</td>\n",
       "      <td>0</td>\n",
       "      <td>0</td>\n",
       "      <td>0</td>\n",
       "    </tr>\n",
       "    <tr>\n",
       "      <th>2</th>\n",
       "      <td>2020-01-22</td>\n",
       "      <td>North America</td>\n",
       "      <td>US</td>\n",
       "      <td>United States</td>\n",
       "      <td>Washington</td>\n",
       "      <td>1</td>\n",
       "      <td>0</td>\n",
       "      <td>0</td>\n",
       "      <td>0</td>\n",
       "      <td>1</td>\n",
       "      <td>0</td>\n",
       "      <td>0</td>\n",
       "      <td>0</td>\n",
       "      <td>0</td>\n",
       "    </tr>\n",
       "    <tr>\n",
       "      <th>3</th>\n",
       "      <td>2020-01-23</td>\n",
       "      <td>North America</td>\n",
       "      <td>US</td>\n",
       "      <td>United States</td>\n",
       "      <td>All States</td>\n",
       "      <td>1</td>\n",
       "      <td>0</td>\n",
       "      <td>0</td>\n",
       "      <td>0</td>\n",
       "      <td>1</td>\n",
       "      <td>0</td>\n",
       "      <td>0</td>\n",
       "      <td>0</td>\n",
       "      <td>0</td>\n",
       "    </tr>\n",
       "    <tr>\n",
       "      <th>4</th>\n",
       "      <td>2020-01-23</td>\n",
       "      <td>North America</td>\n",
       "      <td>US</td>\n",
       "      <td>United States</td>\n",
       "      <td>Washington</td>\n",
       "      <td>1</td>\n",
       "      <td>0</td>\n",
       "      <td>0</td>\n",
       "      <td>0</td>\n",
       "      <td>1</td>\n",
       "      <td>0</td>\n",
       "      <td>0</td>\n",
       "      <td>0</td>\n",
       "      <td>0</td>\n",
       "    </tr>\n",
       "  </tbody>\n",
       "</table>\n",
       "</div>"
      ],
      "text/plain": [
       "         Date Continent_Name Two_Letter_Country_Code Country_Region  \\\n",
       "0  2020-01-20           Asia                      KR    South Korea   \n",
       "1  2020-01-22  North America                      US  United States   \n",
       "2  2020-01-22  North America                      US  United States   \n",
       "3  2020-01-23  North America                      US  United States   \n",
       "4  2020-01-23  North America                      US  United States   \n",
       "\n",
       "  Province_State  positive  hospitalized  recovered  death  total_tested  \\\n",
       "0     All States         1             0          0      0             4   \n",
       "1     All States         1             0          0      0             1   \n",
       "2     Washington         1             0          0      0             1   \n",
       "3     All States         1             0          0      0             1   \n",
       "4     Washington         1             0          0      0             1   \n",
       "\n",
       "   active  hospitalizedCurr  daily_tested  daily_positive  \n",
       "0       0                 0             0               0  \n",
       "1       0                 0             0               0  \n",
       "2       0                 0             0               0  \n",
       "3       0                 0             0               0  \n",
       "4       0                 0             0               0  "
      ]
     },
     "execution_count": 1,
     "metadata": {},
     "output_type": "execute_result"
    }
   ],
   "source": [
    "# Import Pandas and Numpy for data manipulation and wrangling\n",
    "import pandas as pd\n",
    "import numpy as np\n",
    "\n",
    "# Import matplotlib and seaborn for data visualisation\n",
    "import matplotlib.pyplot as plt\n",
    "import seaborn as sns\n",
    "sns.set_theme()\n",
    "\n",
    "# Read in Data\n",
    "covid = pd.read_csv('covid_19.csv')\n",
    "\n",
    "# Display the first five records of the data\n",
    "covid.head()"
   ]
  },
  {
   "cell_type": "markdown",
   "id": "c87810e0-e55e-4ce8-8b27-d642de85eae4",
   "metadata": {},
   "source": [
    "## Data Understanding\n",
    "Now that we have successfully loaded our dataset, its time we take steps to understand the structure and basic characteristics of the data. \n",
    "### Inspect the Data\n",
    "We have already the viewed the first five records of our dataset, now we will check the number of rows and columns of our data."
   ]
  },
  {
   "cell_type": "code",
   "execution_count": 2,
   "id": "82d48441-1ab6-4260-b516-30bd9f485f47",
   "metadata": {},
   "outputs": [
    {
     "name": "stdout",
     "output_type": "stream",
     "text": [
      "Our dataset has 10903 rows and 14 columns.\n"
     ]
    }
   ],
   "source": [
    "shape = covid.shape\n",
    "print(f\"Our dataset has {shape[0]} rows and {shape[1]} columns.\")"
   ]
  },
  {
   "cell_type": "markdown",
   "id": "c5d24a7b-830c-47a9-af65-c85249c54045",
   "metadata": {},
   "source": [
    "### Understanding the Variables\n",
    "Here we will identify the types of variables and identify variables with missing values. We will also give a brief explanation corresponding to ech variable."
   ]
  },
  {
   "cell_type": "code",
   "execution_count": 3,
   "id": "cac4e0fa-a3c8-4e56-abb1-b668a28544d0",
   "metadata": {},
   "outputs": [
    {
     "name": "stdout",
     "output_type": "stream",
     "text": [
      "<class 'pandas.core.frame.DataFrame'>\n",
      "RangeIndex: 10903 entries, 0 to 10902\n",
      "Data columns (total 14 columns):\n",
      " #   Column                   Non-Null Count  Dtype \n",
      "---  ------                   --------------  ----- \n",
      " 0   Date                     10903 non-null  object\n",
      " 1   Continent_Name           10903 non-null  object\n",
      " 2   Two_Letter_Country_Code  10903 non-null  object\n",
      " 3   Country_Region           10903 non-null  object\n",
      " 4   Province_State           10903 non-null  object\n",
      " 5   positive                 10903 non-null  int64 \n",
      " 6   hospitalized             10903 non-null  int64 \n",
      " 7   recovered                10903 non-null  int64 \n",
      " 8   death                    10903 non-null  int64 \n",
      " 9   total_tested             10903 non-null  int64 \n",
      " 10  active                   10903 non-null  int64 \n",
      " 11  hospitalizedCurr         10903 non-null  int64 \n",
      " 12  daily_tested             10903 non-null  int64 \n",
      " 13  daily_positive           10903 non-null  int64 \n",
      "dtypes: int64(9), object(5)\n",
      "memory usage: 1.2+ MB\n"
     ]
    }
   ],
   "source": [
    "covid.info()"
   ]
  },
  {
   "cell_type": "markdown",
   "id": "5c17ea68-326d-4ead-89dd-3d9b08a4361d",
   "metadata": {},
   "source": [
    "Our dataset has **10903** rows and **14** columns as stipulated in the table above. The DataFrame do not have missing values. It has 5 columns of the type **object** (strings) and 9 columns of the type **inte64** which are typically **integers**. The following is a breakdown of the column names and an explanation of what they are:\n",
    "1. `Date`: Date.\n",
    "2. `Continent_Name`: Continent names.\n",
    "3. `Two_Letter_Country_Code`: Country codes.\n",
    "4. `Country_Region`: Country names.\n",
    "5. `Province_State`: States/province names; value is All States when state/provincial level data is not available.\n",
    "6. `positive`: Cumulative number of positive cases reported.\n",
    "7. `hospitalized`: Cumulative number of hospitalized cases reported.\n",
    "8. `recovered`: Cumulative number of recovered cases reported.\n",
    "9. `death`: Cumulative number of deaths reported.\n",
    "10. `total_tested`: Cumulative number of tests conducted.\n",
    "11. `active`: Number of actively cases on that day.\n",
    "12. `hospitalizedCurr`: Number of actively hospitalized cases on that day.\n",
    "13. `daily_tested`: Number of tests conducted on the day; if daily data is unavailable, daily tested is averaged across number of days in between.\n",
    "14. `daily_positive`: Number of positive cases reported on the day; if daily data is unavailable, daily positive is averaged across number of days in.\n",
    "### Check for Duplicates.\n",
    "We will check if our dataset has duplicated records."
   ]
  },
  {
   "cell_type": "code",
   "execution_count": 4,
   "id": "aa525093-f809-45c2-8484-f36ea17eaf41",
   "metadata": {},
   "outputs": [
    {
     "data": {
      "text/plain": [
       "0"
      ]
     },
     "execution_count": 4,
     "metadata": {},
     "output_type": "execute_result"
    }
   ],
   "source": [
    "covid.duplicated().sum()"
   ]
  },
  {
   "cell_type": "markdown",
   "id": "bb021d90-33cb-4590-899c-19c87624fbc7",
   "metadata": {},
   "source": [
    "Our dataset do not have duplicates.\n",
    "### Summary Statistics\n",
    "Having checked for missing values and duplicates, we have found none of course, let us go ahead and display the summary statistics in order to have a general overview of the statistical makeup of our data. "
   ]
  },
  {
   "cell_type": "code",
   "execution_count": 5,
   "id": "a5282441-fcef-4410-a488-73df14e3b9f9",
   "metadata": {},
   "outputs": [
    {
     "data": {
      "text/html": [
       "<div>\n",
       "<style scoped>\n",
       "    .dataframe tbody tr th:only-of-type {\n",
       "        vertical-align: middle;\n",
       "    }\n",
       "\n",
       "    .dataframe tbody tr th {\n",
       "        vertical-align: top;\n",
       "    }\n",
       "\n",
       "    .dataframe thead th {\n",
       "        text-align: right;\n",
       "    }\n",
       "</style>\n",
       "<table border=\"1\" class=\"dataframe\">\n",
       "  <thead>\n",
       "    <tr style=\"text-align: right;\">\n",
       "      <th></th>\n",
       "      <th>positive</th>\n",
       "      <th>hospitalized</th>\n",
       "      <th>recovered</th>\n",
       "      <th>death</th>\n",
       "      <th>total_tested</th>\n",
       "      <th>active</th>\n",
       "      <th>hospitalizedCurr</th>\n",
       "      <th>daily_tested</th>\n",
       "      <th>daily_positive</th>\n",
       "    </tr>\n",
       "  </thead>\n",
       "  <tbody>\n",
       "    <tr>\n",
       "      <th>count</th>\n",
       "      <td>1.090300e+04</td>\n",
       "      <td>10903.000000</td>\n",
       "      <td>10903.000000</td>\n",
       "      <td>10903.000000</td>\n",
       "      <td>1.090300e+04</td>\n",
       "      <td>10903.000000</td>\n",
       "      <td>10903.000000</td>\n",
       "      <td>10903.000000</td>\n",
       "      <td>10903.000000</td>\n",
       "    </tr>\n",
       "    <tr>\n",
       "      <th>mean</th>\n",
       "      <td>1.776802e+04</td>\n",
       "      <td>766.402550</td>\n",
       "      <td>2409.220490</td>\n",
       "      <td>947.592956</td>\n",
       "      <td>1.954757e+05</td>\n",
       "      <td>4472.194717</td>\n",
       "      <td>454.074475</td>\n",
       "      <td>6841.403283</td>\n",
       "      <td>497.884619</td>\n",
       "    </tr>\n",
       "    <tr>\n",
       "      <th>std</th>\n",
       "      <td>9.314346e+04</td>\n",
       "      <td>5626.325766</td>\n",
       "      <td>11254.209177</td>\n",
       "      <td>5507.242206</td>\n",
       "      <td>8.190222e+05</td>\n",
       "      <td>22277.479931</td>\n",
       "      <td>2253.045376</td>\n",
       "      <td>27198.457892</td>\n",
       "      <td>2354.834051</td>\n",
       "    </tr>\n",
       "    <tr>\n",
       "      <th>min</th>\n",
       "      <td>0.000000e+00</td>\n",
       "      <td>0.000000</td>\n",
       "      <td>0.000000</td>\n",
       "      <td>0.000000</td>\n",
       "      <td>0.000000e+00</td>\n",
       "      <td>-2.000000</td>\n",
       "      <td>0.000000</td>\n",
       "      <td>-330230.000000</td>\n",
       "      <td>-4735.000000</td>\n",
       "    </tr>\n",
       "    <tr>\n",
       "      <th>25%</th>\n",
       "      <td>4.400000e+01</td>\n",
       "      <td>0.000000</td>\n",
       "      <td>0.000000</td>\n",
       "      <td>0.000000</td>\n",
       "      <td>2.147500e+03</td>\n",
       "      <td>0.000000</td>\n",
       "      <td>0.000000</td>\n",
       "      <td>71.000000</td>\n",
       "      <td>1.000000</td>\n",
       "    </tr>\n",
       "    <tr>\n",
       "      <th>50%</th>\n",
       "      <td>1.026000e+03</td>\n",
       "      <td>0.000000</td>\n",
       "      <td>0.000000</td>\n",
       "      <td>6.000000</td>\n",
       "      <td>3.035800e+04</td>\n",
       "      <td>0.000000</td>\n",
       "      <td>0.000000</td>\n",
       "      <td>1048.000000</td>\n",
       "      <td>29.000000</td>\n",
       "    </tr>\n",
       "    <tr>\n",
       "      <th>75%</th>\n",
       "      <td>7.440000e+03</td>\n",
       "      <td>0.000000</td>\n",
       "      <td>500.500000</td>\n",
       "      <td>136.000000</td>\n",
       "      <td>1.252850e+05</td>\n",
       "      <td>660.500000</td>\n",
       "      <td>28.000000</td>\n",
       "      <td>4688.500000</td>\n",
       "      <td>264.000000</td>\n",
       "    </tr>\n",
       "    <tr>\n",
       "      <th>max</th>\n",
       "      <td>1.783570e+06</td>\n",
       "      <td>89590.000000</td>\n",
       "      <td>171883.000000</td>\n",
       "      <td>98536.000000</td>\n",
       "      <td>1.693689e+07</td>\n",
       "      <td>280931.000000</td>\n",
       "      <td>33004.000000</td>\n",
       "      <td>492276.000000</td>\n",
       "      <td>63047.000000</td>\n",
       "    </tr>\n",
       "  </tbody>\n",
       "</table>\n",
       "</div>"
      ],
      "text/plain": [
       "           positive  hospitalized      recovered         death  total_tested  \\\n",
       "count  1.090300e+04  10903.000000   10903.000000  10903.000000  1.090300e+04   \n",
       "mean   1.776802e+04    766.402550    2409.220490    947.592956  1.954757e+05   \n",
       "std    9.314346e+04   5626.325766   11254.209177   5507.242206  8.190222e+05   \n",
       "min    0.000000e+00      0.000000       0.000000      0.000000  0.000000e+00   \n",
       "25%    4.400000e+01      0.000000       0.000000      0.000000  2.147500e+03   \n",
       "50%    1.026000e+03      0.000000       0.000000      6.000000  3.035800e+04   \n",
       "75%    7.440000e+03      0.000000     500.500000    136.000000  1.252850e+05   \n",
       "max    1.783570e+06  89590.000000  171883.000000  98536.000000  1.693689e+07   \n",
       "\n",
       "              active  hospitalizedCurr   daily_tested  daily_positive  \n",
       "count   10903.000000      10903.000000   10903.000000    10903.000000  \n",
       "mean     4472.194717        454.074475    6841.403283      497.884619  \n",
       "std     22277.479931       2253.045376   27198.457892     2354.834051  \n",
       "min        -2.000000          0.000000 -330230.000000    -4735.000000  \n",
       "25%         0.000000          0.000000      71.000000        1.000000  \n",
       "50%         0.000000          0.000000    1048.000000       29.000000  \n",
       "75%       660.500000         28.000000    4688.500000      264.000000  \n",
       "max    280931.000000      33004.000000  492276.000000    63047.000000  "
      ]
     },
     "execution_count": 5,
     "metadata": {},
     "output_type": "execute_result"
    }
   ],
   "source": [
    "# Summary Statistics for numeric columns\n",
    "covid.describe()"
   ]
  },
  {
   "cell_type": "code",
   "execution_count": 6,
   "id": "51d27c72-8346-45cd-a2c2-9bb5977621ed",
   "metadata": {},
   "outputs": [
    {
     "data": {
      "text/html": [
       "<div>\n",
       "<style scoped>\n",
       "    .dataframe tbody tr th:only-of-type {\n",
       "        vertical-align: middle;\n",
       "    }\n",
       "\n",
       "    .dataframe tbody tr th {\n",
       "        vertical-align: top;\n",
       "    }\n",
       "\n",
       "    .dataframe thead th {\n",
       "        text-align: right;\n",
       "    }\n",
       "</style>\n",
       "<table border=\"1\" class=\"dataframe\">\n",
       "  <thead>\n",
       "    <tr style=\"text-align: right;\">\n",
       "      <th></th>\n",
       "      <th>Date</th>\n",
       "      <th>Continent_Name</th>\n",
       "      <th>Two_Letter_Country_Code</th>\n",
       "      <th>Country_Region</th>\n",
       "      <th>Province_State</th>\n",
       "    </tr>\n",
       "  </thead>\n",
       "  <tbody>\n",
       "    <tr>\n",
       "      <th>count</th>\n",
       "      <td>10903</td>\n",
       "      <td>10903</td>\n",
       "      <td>10903</td>\n",
       "      <td>10903</td>\n",
       "      <td>10903</td>\n",
       "    </tr>\n",
       "    <tr>\n",
       "      <th>unique</th>\n",
       "      <td>133</td>\n",
       "      <td>6</td>\n",
       "      <td>109</td>\n",
       "      <td>109</td>\n",
       "      <td>81</td>\n",
       "    </tr>\n",
       "    <tr>\n",
       "      <th>top</th>\n",
       "      <td>2020-05-05</td>\n",
       "      <td>North America</td>\n",
       "      <td>US</td>\n",
       "      <td>United States</td>\n",
       "      <td>All States</td>\n",
       "    </tr>\n",
       "    <tr>\n",
       "      <th>freq</th>\n",
       "      <td>142</td>\n",
       "      <td>6452</td>\n",
       "      <td>5032</td>\n",
       "      <td>5032</td>\n",
       "      <td>3781</td>\n",
       "    </tr>\n",
       "  </tbody>\n",
       "</table>\n",
       "</div>"
      ],
      "text/plain": [
       "              Date Continent_Name Two_Letter_Country_Code Country_Region  \\\n",
       "count        10903          10903                   10903          10903   \n",
       "unique         133              6                     109            109   \n",
       "top     2020-05-05  North America                      US  United States   \n",
       "freq           142           6452                    5032           5032   \n",
       "\n",
       "       Province_State  \n",
       "count           10903  \n",
       "unique             81  \n",
       "top        All States  \n",
       "freq             3781  "
      ]
     },
     "execution_count": 6,
     "metadata": {},
     "output_type": "execute_result"
    }
   ],
   "source": [
    "# Summary Statistics for qualitative columns\n",
    "covid.describe(include = ['object'])"
   ]
  },
  {
   "cell_type": "markdown",
   "id": "0b23e766-4a9e-426c-87c5-420c3e54bae9",
   "metadata": {},
   "source": [
    "## Data Cleaning\n",
    "Before we begin figuring out answers to our questions, it is necessary to do some data cleaning. We have no missing values to deal with and no duplicate values to drop. Our data cleaning will dwell much on making the column names formated in a way that will be easy to work with, filtering our data to only include rows necessary for our analysis, droping columns that will not be used in our project and changing the `Date` column data type from **object** to **DateTime**. \n",
    "### Cleaning column names\n",
    "Let us format the column names so that they become consistent and easy to read and work with. "
   ]
  },
  {
   "cell_type": "code",
   "execution_count": 7,
   "id": "503db5c8-b014-4684-b2fc-196c10f6c97b",
   "metadata": {},
   "outputs": [
    {
     "data": {
      "text/plain": [
       "Index(['date', 'continent_name', 'two_letter_country_code', 'country_region',\n",
       "       'province_state', 'positive', 'hospitalized', 'recovered', 'death',\n",
       "       'total_tested', 'active', 'hospitalized_curr', 'daily_tested',\n",
       "       'daily_positive'],\n",
       "      dtype='object')"
      ]
     },
     "execution_count": 7,
     "metadata": {},
     "output_type": "execute_result"
    }
   ],
   "source": [
    "covid.columns = covid.columns.str.lower()\n",
    "covid.rename(columns = {'hospitalizedcurr': 'hospitalized_curr'}, inplace = True)\n",
    "covid.columns"
   ]
  },
  {
   "cell_type": "markdown",
   "id": "0e99a363-6f38-400b-bdea-3756a88b1969",
   "metadata": {},
   "source": [
    "### Change `date` column datatype\n",
    "We will change `date` to **datetime** datatype."
   ]
  },
  {
   "cell_type": "code",
   "execution_count": 8,
   "id": "b7c61d54-02a8-43bf-ad38-0c2df8176cbb",
   "metadata": {},
   "outputs": [
    {
     "name": "stdout",
     "output_type": "stream",
     "text": [
      "datetime64[ns]\n"
     ]
    }
   ],
   "source": [
    "covid['date'] = pd.to_datetime(covid['date'])\n",
    "print(covid['date'].dtype)"
   ]
  },
  {
   "cell_type": "markdown",
   "id": "77683be3-9182-4e73-8dd3-a5865a294d40",
   "metadata": {},
   "source": [
    "### Isolating the Data we need\n",
    "We will filter our dataset to include only records that we need. After viewing the first five records of our dataset, one could easily see that `province_state` column has columns for **all states** and data for individual states. For example, data for the **United States**, there is data for all states combined and data points for individual states like Washington. Conducting our analysis with such a dataset would introduce bias. Therefore, we will filter our dataset to only include records at a **country** level. We serve our filtered data to a variable **covid_all_states**."
   ]
  },
  {
   "cell_type": "code",
   "execution_count": 9,
   "id": "744696c2-2a76-4453-9d9f-2b5a0be6634b",
   "metadata": {},
   "outputs": [
    {
     "data": {
      "text/plain": [
       "(3781, 14)"
      ]
     },
     "execution_count": 9,
     "metadata": {},
     "output_type": "execute_result"
    }
   ],
   "source": [
    "# All states data\n",
    "covid_all_states = covid[covid['province_state'] == 'All States'].reset_index(drop = True)\n",
    "covid_all_states.shape"
   ]
  },
  {
   "cell_type": "markdown",
   "id": "a2c4a4cf-0ccf-4d6c-a019-70fc27b0e023",
   "metadata": {},
   "source": [
    "After filtering our dataset to include data at a **country** level, the number of records for our data has reduced from **10, 903** to **3, 781**. Even though we can work with this dataset to find trends and relationships for cummulative variables and then for daily variables, we will choose to divide our dataset into two DataFrames, one related to daily measures which will be called **covid_all_states_daily** and the other related to cummulative measures which will go by the name of **covid_all_states_cummulative**."
   ]
  },
  {
   "cell_type": "code",
   "execution_count": 13,
   "id": "c6df8d04-e8f8-4caf-be33-18c879de78d8",
   "metadata": {},
   "outputs": [
    {
     "name": "stdout",
     "output_type": "stream",
     "text": [
      "(3781, 8)\n",
      "(3781, 6)\n"
     ]
    }
   ],
   "source": [
    "# Columns related to cummulative measures\n",
    "covid_all_states_cummulative = covid_all_states[['date', 'continent_name', \\\n",
    "                                                 'two_letter_country_code', 'positive',\\\n",
    "                                                 'hospitalized', 'recovered', 'death', 'total_tested']]\n",
    "\n",
    "# Columns related to daily measures\n",
    "covid_all_states_daily = covid_all_states[['date', 'country_region', 'active', 'hospitalized_curr', 'daily_tested', 'daily_positive']]\n",
    "\n",
    "# View the dimensions of the the datasets to confirm if filtering has been successful\n",
    "print(covid_all_states_cummulative.shape, covid_all_states_daily.shape, sep='\\n')"
   ]
  },
  {
   "cell_type": "markdown",
   "id": "4ac8eab2-81c9-4c58-98bf-934849a8676a",
   "metadata": {},
   "source": [
    "Now that we have isolated our data to only inclide data points that we need for our analysis, it is time we start answering our questions. \n",
    "## Identifying Countries with the highest number of Deaths\n",
    "To identify countries with the highest number of deaths, we will first group **covid_all_states_cummulative** DataFrame by `two_letter_country_code` in order to view the maximum values for cummulative deaths for each country. Our focus is to find the top ten countries with highest numbers of cummulative deaths. We will first display our results in a table, then we will plot a horizontal bar chart for the same."
   ]
  },
  {
   "cell_type": "code",
   "execution_count": 24,
   "id": "2a1eea8a-0fe9-4b91-8469-51d08df0ff2e",
   "metadata": {},
   "outputs": [
    {
     "data": {
      "text/html": [
       "<div>\n",
       "<style scoped>\n",
       "    .dataframe tbody tr th:only-of-type {\n",
       "        vertical-align: middle;\n",
       "    }\n",
       "\n",
       "    .dataframe tbody tr th {\n",
       "        vertical-align: top;\n",
       "    }\n",
       "\n",
       "    .dataframe thead th {\n",
       "        text-align: right;\n",
       "    }\n",
       "</style>\n",
       "<table border=\"1\" class=\"dataframe\">\n",
       "  <thead>\n",
       "    <tr style=\"text-align: right;\">\n",
       "      <th></th>\n",
       "      <th>Cummulative Deaths</th>\n",
       "    </tr>\n",
       "  </thead>\n",
       "  <tbody>\n",
       "    <tr>\n",
       "      <th>United States</th>\n",
       "      <td>98536</td>\n",
       "    </tr>\n",
       "    <tr>\n",
       "      <th>Italy</th>\n",
       "      <td>33415</td>\n",
       "    </tr>\n",
       "    <tr>\n",
       "      <th>Great Britain</th>\n",
       "      <td>33186</td>\n",
       "    </tr>\n",
       "    <tr>\n",
       "      <th>Belgium</th>\n",
       "      <td>8903</td>\n",
       "    </tr>\n",
       "    <tr>\n",
       "      <th>Russua</th>\n",
       "      <td>4693</td>\n",
       "    </tr>\n",
       "    <tr>\n",
       "      <th>Turkey</th>\n",
       "      <td>4540</td>\n",
       "    </tr>\n",
       "    <tr>\n",
       "      <th>Sweden</th>\n",
       "      <td>4395</td>\n",
       "    </tr>\n",
       "    <tr>\n",
       "      <th>Canada</th>\n",
       "      <td>3682</td>\n",
       "    </tr>\n",
       "    <tr>\n",
       "      <th>New Zealand</th>\n",
       "      <td>1421</td>\n",
       "    </tr>\n",
       "    <tr>\n",
       "      <th>Poland</th>\n",
       "      <td>1065</td>\n",
       "    </tr>\n",
       "  </tbody>\n",
       "</table>\n",
       "</div>"
      ],
      "text/plain": [
       "               Cummulative Deaths\n",
       "United States               98536\n",
       "Italy                       33415\n",
       "Great Britain               33186\n",
       "Belgium                      8903\n",
       "Russua                       4693\n",
       "Turkey                       4540\n",
       "Sweden                       4395\n",
       "Canada                       3682\n",
       "New Zealand                  1421\n",
       "Poland                       1065"
      ]
     },
     "execution_count": 24,
     "metadata": {},
     "output_type": "execute_result"
    }
   ],
   "source": [
    "# A pivot table for cummulative deaths by country\n",
    "covid_deaths_cum = covid_all_states_cummulative.\\\n",
    "pivot_table(values = 'death', index = 'two_letter_country_code', aggfunc = 'max').sort_values(by = 'death', ascending = False).head(10)\n",
    "covid_deaths_cum.index = ['United States', 'Italy', 'Great Britain', 'Belgium', 'Russua', 'Turkey', 'Sweden', 'Canada', 'New Zealand', 'Poland']\n",
    "covid_deaths_cum.columns = ['Cummulative Deaths']\n",
    "covid_deaths_cum"
   ]
  },
  {
   "cell_type": "markdown",
   "id": "aa0a0023-b69b-4628-b4d7-72bc65127d08",
   "metadata": {},
   "source": [
    "From the table above, we can easily see that the country with the highest number of deaths cummulatively is the **United States of America** seconded by **Italy**. Let us now visualize our table."
   ]
  },
  {
   "cell_type": "code",
   "execution_count": 31,
   "id": "6563154b-9b4c-4f96-8c82-a4b74633ae51",
   "metadata": {},
   "outputs": [
    {
     "data": {
      "image/png": "[encoded data removed]",
      "text/plain": [
       "<Figure size 640x480 with 1 Axes>"
      ]
     },
     "metadata": {},
     "output_type": "display_data"
    }
   ],
   "source": [
    "covid_deaths_cum.sort_values(by='Cummulative Deaths').plot(kind = 'barh', legend = False)\n",
    "plt.grid(False)\n",
    "plt.show()"
   ]
  },
  {
   "cell_type": "code",
   "execution_count": null,
   "id": "37a9b45e-644e-43c9-bf07-b73392003170",
   "metadata": {},
   "outputs": [],
   "source": []
  },
  {
   "cell_type": "code",
   "execution_count": null,
   "id": "67be9a0e-108a-4c64-ae15-1dbf72a46967",
   "metadata": {},
   "outputs": [],
   "source": []
  },
  {
   "cell_type": "code",
   "execution_count": null,
   "id": "6328699c-30c8-49dc-8324-8595d4cae38f",
   "metadata": {},
   "outputs": [],
   "source": []
  },
  {
   "cell_type": "code",
   "execution_count": null,
   "id": "4c252c1a-0109-4faa-be82-5c6156510beb",
   "metadata": {},
   "outputs": [],
   "source": []
  }
 ],
 "metadata": {
  "kernelspec": {
   "display_name": "Python 3 (ipykernel)",
   "language": "python",
   "name": "python3"
  },
  "language_info": {
   "codemirror_mode": {
    "name": "ipython",
    "version": 3
   },
   "file_extension": ".py",
   "mimetype": "text/x-python",
   "name": "python",
   "nbconvert_exporter": "python",
   "pygments_lexer": "ipython3",
   "version": "3.12.7"
  }
 },
 "nbformat": 4,
 "nbformat_minor": 5
}
